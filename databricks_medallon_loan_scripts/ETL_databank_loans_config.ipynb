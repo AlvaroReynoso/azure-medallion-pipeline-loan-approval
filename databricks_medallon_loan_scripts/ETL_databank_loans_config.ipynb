{
 "cells": [
  {
   "cell_type": "code",
   "execution_count": 0,
   "metadata": {
    "application/vnd.databricks.v1+cell": {
     "cellMetadata": {
      "byteLimit": 2048000,
      "rowLimit": 10000
     },
     "inputWidgets": {},
     "nuid": "c0a5ac5e-399f-4a1c-8d68-47bd4a022ca8",
     "showTitle": false,
     "tableResultSettingsMap": {},
     "title": ""
    }
   },
   "outputs": [],
   "source": [
    "# % sh\n"
   ]
  },
  {
   "cell_type": "code",
   "execution_count": 0,
   "metadata": {
    "application/vnd.databricks.v1+cell": {
     "cellMetadata": {
      "byteLimit": 2048000,
      "rowLimit": 10000
     },
     "inputWidgets": {},
     "nuid": "6e8fa410-79d7-497b-86ed-4f47f10e87f1",
     "showTitle": true,
     "tableResultSettingsMap": {},
     "title": "Retrieve Secret from Databricks Scope"
    }
   },
   "outputs": [],
   "source": [
    "dbutils.secrets.get(scope=\"scope\", key=\"key\")\n",
    "\n"
   ]
  },
  {
   "cell_type": "code",
   "execution_count": 0,
   "metadata": {
    "application/vnd.databricks.v1+cell": {
     "cellMetadata": {
      "byteLimit": 2048000,
      "rowLimit": 10000
     },
     "inputWidgets": {},
     "nuid": "262b84dd-1c63-48d4-a48e-0464395bd9ab",
     "showTitle": true,
     "tableResultSettingsMap": {},
     "title": "Mount Azure Blob Storage Container to Databricks"
    }
   },
   "outputs": [],
   "source": [
    "storage_account = \"myicaroworkspace\"\n",
    "container = \"bankloansmedallon\"\n",
    "scope_name = \"scope\"\n",
    "key_name = \"key\"\n",
    "\n",
    "mount_point = \"/mnt/datalake/bankloansmedallon\"\n",
    "if any(mount.mountPoint == mount_point for mount in dbutils.fs.mounts()):\n",
    "    dbutils.fs.unmount(mount_point)\n",
    "\n",
    "dbutils.fs.mount(\n",
    "    source = f\"wasbs://{container}@{storage_account}.blob.core.windows.net/\",\n",
    "    mount_point = \"/mnt/datalake/bankloansmedallon\",\n",
    "    extra_configs = {\n",
    "        f\"fs.azure.account.key.{storage_account}.blob.core.windows.net\":\n",
    "            dbutils.secrets.get(scope=scope_name, key=key_name)\n",
    "    }\n",
    ")"
   ]
  }
 ],
 "metadata": {
  "application/vnd.databricks.v1+notebook": {
   "computePreferences": null,
   "dashboards": [],
   "environmentMetadata": {
    "base_environment": "",
    "environment_version": "2"
   },
   "inputWidgetPreferences": null,
   "language": "python",
   "notebookMetadata": {
    "pythonIndentUnit": 4
   },
   "notebookName": "ETL_databank_loans_config",
   "widgets": {}
  },
  "language_info": {
   "name": "python"
  }
 },
 "nbformat": 4,
 "nbformat_minor": 0
}
