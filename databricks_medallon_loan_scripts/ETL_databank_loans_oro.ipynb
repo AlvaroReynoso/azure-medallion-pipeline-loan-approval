{
 "cells": [
  {
   "cell_type": "code",
   "execution_count": 0,
   "metadata": {
    "application/vnd.databricks.v1+cell": {
     "cellMetadata": {
      "byteLimit": 2048000,
      "rowLimit": 10000
     },
     "inputWidgets": {},
     "nuid": "409a93ac-5fc8-4863-a523-b091ec20f658",
     "showTitle": false,
     "tableResultSettingsMap": {},
     "title": ""
    }
   },
   "outputs": [],
   "source": [
    "# solo en bronce ,ya que en pipeline se hace con parametro general\n",
    "dbutils.widgets.text(\"path\", \"\", \"\")\n",
    "path = dbutils.widgets.get(\"path\")"
   ]
  },
  {
   "cell_type": "code",
   "execution_count": 0,
   "metadata": {
    "application/vnd.databricks.v1+cell": {
     "cellMetadata": {
      "byteLimit": 2048000,
      "rowLimit": 10000
     },
     "inputWidgets": {},
     "nuid": "6c94dec0-d09c-4ff9-8169-37f0a133ea68",
     "showTitle": true,
     "tableResultSettingsMap": {},
     "title": "Average Income by Education Level"
    }
   },
   "outputs": [],
   "source": [
    "from pyspark.sql.functions import *\n",
    "\n",
    "df_bankloans_gold = spark.read.format(\"delta\").load(f\"/{path}/plata/delta_tables\")\n",
    "\n",
    "\n",
    "# Ingresos promedio por educación\n",
    "df_ingreso_educacion = df_bankloans_gold.groupBy(\"Education\") \\\n",
    "    .agg(avg(\"income\").alias(\"avg_income\")) \\\n",
    "    .orderBy(\"avg_income\", ascending=False)\n",
    "\n",
    "# result = spark.sql(\n",
    "#     \"\"\"\n",
    "#     SELECT Education, AVG(Income) AS avg_income_by_education FROM bank_loans\n",
    "#     GROUP BY Education\n",
    "#     ORDER BY AVG(Income) DESC\n",
    "#     \"\"\"\n",
    "# )\n",
    "\n",
    "\n",
    "display(df_ingreso_educacion)\n",
    "\n",
    "df_ingreso_educacion.write.format(\"delta\").mode(\"overwrite\").option(\"mergeSchema\", \"true\").save(f\"/{path}/oro/avg_income_by_education\")\n",
    "\n"
   ]
  },
  {
   "cell_type": "code",
   "execution_count": 0,
   "metadata": {
    "application/vnd.databricks.v1+cell": {
     "cellMetadata": {
      "byteLimit": 2048000,
      "rowLimit": 10000
     },
     "inputWidgets": {},
     "nuid": "4db77c38-0434-4e02-80d0-f5c19f7ffb33",
     "showTitle": true,
     "tableResultSettingsMap": {},
     "title": "Average Age by Education Level"
    }
   },
   "outputs": [],
   "source": [
    "# Edad promedio por nivel de educación\n",
    "df_age_educacion = df_bankloans_gold.groupBy(\"Education\") \\\n",
    "    .agg(avg(\"Age\").alias(\"Avg_age\")) \\\n",
    "    .orderBy(\"avg_age\", ascending=False)\n",
    "\n",
    "result= spark.sql(\n",
    "    \"\"\"\n",
    "    SELECT Education, AVG(Age) AS Avg_age FROM loans\n",
    "    GROUP BY Education\n",
    "    ORDER BY AVG(Age) DESC\n",
    "    \"\"\"\n",
    ")\n",
    "display(result)\n",
    "\n",
    "display(df_age_educacion)\n",
    "\n",
    "df_age_educacion.write.format(\"delta\").mode(\"overwrite\").option(\"mergeSchema\", \"true\").save(f\"/{path}/oro/avg_age_by_education\")"
   ]
  },
  {
   "cell_type": "code",
   "execution_count": 0,
   "metadata": {
    "application/vnd.databricks.v1+cell": {
     "cellMetadata": {
      "byteLimit": 2048000,
      "rowLimit": 10000
     },
     "inputWidgets": {},
     "nuid": "275de74a-5800-403a-bf49-d72d04898259",
     "showTitle": true,
     "tableResultSettingsMap": {},
     "title": "Income Totals and Averages by Family Size"
    }
   },
   "outputs": [],
   "source": [
    "# Ingreso total y promedio por número de hijos (Family)\n",
    "\n",
    "avg_ingresos_familia = df_bankloans_gold.groupBy(\"Family\") \\\n",
    "    .agg(\n",
    "        sum(\"income\").alias(\"Total_income\"),\n",
    "        avg(\"income\").alias(\"Avg_income\")\n",
    "    ).orderBy(\"Family\")\n",
    "\n",
    "display(avg_ingresos_familia)\n",
    "\n",
    "avg_ingresos_familia.write.format(\"delta\").mode(\"overwrite\").option(\"mergeSchema\", \"true\").mode(\"overwrite\").save(f\"/{path}/oro/avg_ingresos_familia\")\n",
    "\n",
    "# avg_ingresos_familia = spark.sql(\"\"\"\n",
    "#     SELECT Family, SUM(Income) as total_income, AVG(Income) AS Avg_income FROM loans\n",
    "#     GROUP BY Family\n",
    "#     ORDER BY SUM(Income) DESC      \n",
    "# \"\"\")\n",
    "# display(avg_ingresos_familia)\n",
    "\n",
    "\n"
   ]
  },
  {
   "cell_type": "code",
   "execution_count": 0,
   "metadata": {
    "application/vnd.databricks.v1+cell": {
     "cellMetadata": {
      "byteLimit": 2048000,
      "rowLimit": 10000
     },
     "inputWidgets": {},
     "nuid": "30d74b2d-415f-4d6d-9126-68f3adfeb42b",
     "showTitle": true,
     "tableResultSettingsMap": {},
     "title": "Mortgage Loan Distribution Analysis"
    }
   },
   "outputs": [],
   "source": [
    "# Ingreso por hipoteca\n",
    "\n",
    "from pyspark.sql.window import Window\n",
    "from pyspark.sql.functions import col, when, count, sum\n",
    "\n",
    "df_mortgage_group = df_bankloans_gold.withColumn(\n",
    "    \"Has_mortgage\",\n",
    "    when(col(\"Mortgage\") > 0, \"Yes\").otherwise(\"No\")\n",
    ").groupBy(\"Has_mortgage\") \\\n",
    " .agg(count(\"*\").alias(\"Total\")) \\\n",
    ".withColumn(\"Percentage\", col(\"Total\") / sum(\"Total\").over(Window.rowsBetween(Window.unboundedPreceding, Window.unboundedFollowing)) * 100)\n",
    "\n",
    "# result = spark.sql(\n",
    "#     \"\"\"\n",
    "#     SELECT \n",
    "#         CASE WHEN Mortgage > 0 THEN 'Yes' ELSE 'No' END AS has_mortgage, \n",
    "#         COUNT(*) AS total, \n",
    "#         COUNT(*) * 100.0 / SUM(COUNT(*)) OVER () AS percentage \n",
    "#     FROM loans\n",
    "#     GROUP BY has_mortgage\n",
    "#     ORDER BY total DESC\n",
    "#     \"\"\"\n",
    "# )\n",
    "# display(result)\n",
    "display(df_mortgage_group)\n",
    "\n",
    "df_mortgage_group.write.format(\"delta\").mode(\"overwrite\").option(\"mergeSchema\", \"true\").save(f\"/{path}/oro/mortgage_group\")\n"
   ]
  },
  {
   "cell_type": "code",
   "execution_count": 0,
   "metadata": {
    "application/vnd.databricks.v1+cell": {
     "cellMetadata": {
      "byteLimit": 2048000,
      "rowLimit": 10000
     },
     "inputWidgets": {},
     "nuid": "8d767b85-587e-4c80-9e70-9e9f6ee1e87a",
     "showTitle": true,
     "tableResultSettingsMap": {},
     "title": "Approval Rate by Income Segment"
    }
   },
   "outputs": [],
   "source": [
    "df_income_segmentado = df_bankloans_gold.withColumn(\n",
    "    \"Segmento_ingreso\",\n",
    "    when(col(\"Income\") < 50, \"<50k\")\n",
    "    .when((col(\"Income\") >= 50) & (col(\"Income\") < 100), \"50k-100k\")\n",
    "    .when((col(\"Income\") >= 100) & (col(\"Income\") < 150), \"100k-150k\")\n",
    "    .otherwise(\"150k+\")\n",
    ")\n",
    "\n",
    "df_aprobacion_por_segmento = df_income_segmentado.groupBy(\"Segmento_ingreso\") \\\n",
    "    .agg(\n",
    "        count(\"*\").alias(\"Total_clientes\"),\n",
    "        sum(\"Personal_Loan\").alias(\"Prestamos_aprobados\")\n",
    "    ) \\\n",
    "    .withColumn(\"Tasa_aprobacion\", col(\"Prestamos_aprobados\") / col(\"Total_clientes\") * 100) \\\n",
    "    .orderBy(\"Segmento_ingreso\")\n",
    "\n",
    "display(df_aprobacion_por_segmento)\n",
    "\n",
    "df_aprobacion_por_segmento.write.format(\"delta\").mode(\"overwrite\").option(\"mergeSchema\", \"true\").save(f\"/{path}/oro/tasa_aprobacion_por_segmento_ingreso\")"
   ]
  }
 ],
 "metadata": {
  "application/vnd.databricks.v1+notebook": {
   "computePreferences": null,
   "dashboards": [],
   "environmentMetadata": {
    "base_environment": "",
    "environment_version": "2"
   },
   "inputWidgetPreferences": null,
   "language": "python",
   "notebookMetadata": {
    "pythonIndentUnit": 4
   },
   "notebookName": "ETL_databank_loans_oro",
   "widgets": {
    "path": {
     "currentValue": "mnt/datalake/bankloansmedallon",
     "nuid": "973302e3-dccc-4842-a970-f8971c64c7c1",
     "typedWidgetInfo": {
      "autoCreated": false,
      "defaultValue": "",
      "label": "",
      "name": "path",
      "options": {
       "widgetDisplayType": "Text",
       "validationRegex": null
      },
      "parameterDataType": "String"
     },
     "widgetInfo": {
      "widgetType": "text",
      "defaultValue": "",
      "label": "",
      "name": "path",
      "options": {
       "widgetType": "text",
       "autoCreated": null,
       "validationRegex": null
      }
     }
    }
   }
  },
  "language_info": {
   "name": "python"
  }
 },
 "nbformat": 4,
 "nbformat_minor": 0
}
