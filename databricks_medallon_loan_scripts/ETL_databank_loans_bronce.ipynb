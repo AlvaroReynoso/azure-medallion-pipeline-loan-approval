{
 "cells": [
  {
   "cell_type": "code",
   "execution_count": 0,
   "metadata": {
    "application/vnd.databricks.v1+cell": {
     "cellMetadata": {
      "byteLimit": 2048000,
      "rowLimit": 10000
     },
     "inputWidgets": {},
     "nuid": "6493f4ef-dde1-4ce5-bca0-3b531123932b",
     "showTitle": true,
     "tableResultSettingsMap": {},
     "title": "Get Input and Output Paths from User"
    }
   },
   "outputs": [],
   "source": [
    "dbutils.widgets.text(\"path\", \"\", \"\")\n",
    "path = dbutils.widgets.get(\"path\")"
   ]
  },
  {
   "cell_type": "code",
   "execution_count": 0,
   "metadata": {
    "application/vnd.databricks.v1+cell": {
     "cellMetadata": {
      "byteLimit": 2048000,
      "rowLimit": 10000
     },
     "inputWidgets": {},
     "nuid": "df74dbc7-c153-458a-bc59-123fd9286d11",
     "showTitle": true,
     "tableResultSettingsMap": {},
     "title": "Load and Display Raw Bank Loans Data"
    }
   },
   "outputs": [],
   "source": [
    "# Raw to Bronce\n",
    "\n",
    "df_bankloans_raw = (spark.read\n",
    "  .option(\"header\", \"true\")\n",
    "  .option(\"inferSchema\", \"true\")\n",
    "  .option(\"sep\", \",\")\n",
    "  .option(\"schema\", \"string\")\n",
    "  .csv(f\"/{path}/bank_loan_medallon_project\"))\n",
    "\n",
    "df_bankloans_raw.show(10)\n",
    "df_bankloans_raw.printSchema() \n",
    "df_bankloans_raw.display() \n",
    "df_bankloans_raw.createOrReplaceTempView(\"bankloans\")\n",
    "\n",
    "# ToDo: guardar csv en bronze (path: /bronce/csv/bank_loan_clean_csv)\n",
    "df_bankloans_raw.write.format(\"csv\").option(\"header\",\"true\").mode(\"overwrite\").save(f\"{path}/bronce/csv\")"
   ]
  },
  {
   "cell_type": "code",
   "execution_count": 0,
   "metadata": {
    "application/vnd.databricks.v1+cell": {
     "cellMetadata": {
      "byteLimit": 2048000,
      "rowLimit": 10000
     },
     "inputWidgets": {},
     "nuid": "8d951470-ba89-4182-871e-b78431e49afe",
     "showTitle": true,
     "tableResultSettingsMap": {},
     "title": "Renaming Columns in Bank Loans DataFrame"
    }
   },
   "outputs": [],
   "source": [
    "# cambio de nombre de columnas en raw estructurado (bronce)\n",
    "df_bankloans_bronce =(spark.read\n",
    "  .option(\"header\", \"true\")\n",
    "  .option(\"inferSchema\", \"true\")\n",
    "  .option(\"sep\", \",\")\n",
    "  .option(\"schema\", \"string\")\n",
    "  .csv(f\"/{path}/bronce/csv\"))\n",
    "df_bankloans_bronce = df_bankloans_bronce.withColumnRenamed(\"ZIP Code\", \"ZIP_Code\")\n",
    "df_bankloans_bronce= df_bankloans_bronce.withColumnRenamed(\"Personal Loan\", \"Personal_Loan\")\n",
    "df_bankloans_bronce= df_bankloans_bronce.withColumnRenamed(\"Securities Account\", \"Securities_Account\")\n",
    "df_bankloans_bronce= df_bankloans_bronce.withColumnRenamed(\"CCAvg\" ,\"CC_Avg\")\n",
    "df_bankloans_bronce= df_bankloans_bronce.withColumnRenamed(\"CD Account\", \"CD_Account\")\n",
    "df_bankloans_bronce = df_bankloans_bronce.withColumnRenamed(\"income\", \"Income\")\n",
    "\n",
    "# Raw estructurado (sigue siendo bronce)\n",
    "df_bankloans_bronce.display()\n",
    "df_bankloans_bronce.write.format(\"delta\").mode(\"overwrite\").save(f\"/{path}/bronce/delta_tables\")\n",
    "spark.read.format(\"delta\").load(f\"/{path}/bronce/delta_tables\").printSchema()"
   ]
  }
 ],
 "metadata": {
  "application/vnd.databricks.v1+notebook": {
   "computePreferences": null,
   "dashboards": [],
   "environmentMetadata": {
    "base_environment": "",
    "environment_version": "2"
   },
   "inputWidgetPreferences": null,
   "language": "python",
   "notebookMetadata": {
    "pythonIndentUnit": 4
   },
   "notebookName": "ETL_databank_loans_bronce",
   "widgets": {
    "path": {
     "currentValue": "mnt/datalake/bankloansmedallon",
     "nuid": "1cf9c186-fd79-4f6e-aa5b-38e0465cfbbb",
     "typedWidgetInfo": {
      "autoCreated": false,
      "defaultValue": "",
      "label": "",
      "name": "path",
      "options": {
       "widgetDisplayType": "Text",
       "validationRegex": null
      },
      "parameterDataType": "String"
     },
     "widgetInfo": {
      "widgetType": "text",
      "defaultValue": "",
      "label": "",
      "name": "path",
      "options": {
       "widgetType": "text",
       "autoCreated": null,
       "validationRegex": null
      }
     }
    }
   }
  },
  "language_info": {
   "name": "python"
  }
 },
 "nbformat": 4,
 "nbformat_minor": 0
}
