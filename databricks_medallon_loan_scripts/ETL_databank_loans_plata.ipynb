{
 "cells": [
  {
   "cell_type": "code",
   "execution_count": 0,
   "metadata": {
    "application/vnd.databricks.v1+cell": {
     "cellMetadata": {
      "byteLimit": 2048000,
      "rowLimit": 10000
     },
     "inputWidgets": {},
     "nuid": "fc1d2ac6-f905-4983-a00f-4b1cdbfec2ce",
     "showTitle": false,
     "tableResultSettingsMap": {},
     "title": ""
    }
   },
   "outputs": [],
   "source": [
    "# solo en bronce ,ya que en pipeline se hace con parametro general\n",
    "dbutils.widgets.text(\"path\", \"\", \"\")\n",
    "path = dbutils.widgets.get(\"path\")"
   ]
  },
  {
   "cell_type": "code",
   "execution_count": 0,
   "metadata": {
    "application/vnd.databricks.v1+cell": {
     "cellMetadata": {
      "byteLimit": 2048000,
      "rowLimit": 10000
     },
     "inputWidgets": {},
     "nuid": "d2fc977f-5cc8-4caa-8d68-340e82a56d24",
     "showTitle": true,
     "tableResultSettingsMap": {},
     "title": "Data Cleaning and Transformation for Bank Loans"
    }
   },
   "outputs": [],
   "source": [
    "# Silver, limpieza y transformacion de datos\n",
    "from pyspark.sql.window import Window\n",
    "from pyspark.sql.functions import *\n",
    "\n",
    "df_bankloans_plata = spark.read.format(\"delta\").load(f\"/{path}/bronce/delta_tables\")\n",
    "\n",
    "df_bankloans_plata = df_bankloans_plata.drop(\"Zip_Code\")\n",
    "\n",
    "df_bankloans_plata = df_bankloans_plata.filter((col(\"Experience\") >= 0) & (col(\"Experience\") <= col(\"Age\")))\n",
    "\n",
    "df_bankloans_plata = df_bankloans_plata \\\n",
    "    .withColumn(\"income\", col(\"Income\").cast(\"double\"))\n",
    "\n",
    "df_bankloans_plata = df_bankloans_plata.withColumn(\"Mortgage\", col(\"Mortgage\").cast(\"double\"))\n",
    "\n",
    "\n",
    "# Convertir CC_Avg a valor numérico\n",
    "df_bankloans_plata = df_bankloans_plata.withColumn(\n",
    "    \"CC_Avg\",\n",
    "    when(col(\"CC_Avg\").contains(\"/\"),  \n",
    "         (split(col(\"CC_Avg\"), \"/\").getItem(0).cast(\"float\") /\n",
    "          split(col(\"CC_Avg\"), \"/\").getItem(1).cast(\"float\"))\n",
    "    )\n",
    ")\n",
    "\n",
    "df_bankloans_plata = df_bankloans_plata.withColumn(\"Education\",\n",
    "                   when(col(\"Education\") == 1, \"Undergrad\")\n",
    "                   .when(col(\"Education\") == 2, \"Graduate\")\n",
    "                   .when(col(\"Education\") == 3, \"Advanced/Professional\")\n",
    "                   .otherwise(\"Unknown\"))\n",
    "\n",
    "# Corregir valores negativos en Experience (podrías establecerlos a 0 o imputar basado en edad)\n",
    "df_bankloans_plata = df_bankloans_plata.withColumn(\n",
    "    'Experience',\n",
    "    when(col('Experience') < 0, 0).otherwise(col('Experience'))\n",
    ")\n",
    "\n",
    "display(df_bankloans_plata)\n"
   ]
  },
  {
   "cell_type": "code",
   "execution_count": 0,
   "metadata": {
    "application/vnd.databricks.v1+cell": {
     "cellMetadata": {
      "byteLimit": 2048000,
      "rowLimit": 10000
     },
     "inputWidgets": {},
     "nuid": "08e56b13-b0d4-4e81-9d9b-bfef0f01f370",
     "showTitle": true,
     "tableResultSettingsMap": {},
     "title": "Save Bank Loans as CSV and Delta to Silver Layer"
    }
   },
   "outputs": [],
   "source": [
    "# silver save Csv and Delta\n",
    "df_bankloans_plata.write.format(\"csv\").option(\"header\",\"true\").mode(\"overwrite\").save(f\"/{path}/plata/csv\")\n",
    "\n",
    "df_bankloans_plata.write.format(\"delta\").mode(\"overwrite\").save(f\"/{path}/plata/delta_tables\")\n"
   ]
  }
 ],
 "metadata": {
  "application/vnd.databricks.v1+notebook": {
   "computePreferences": null,
   "dashboards": [],
   "environmentMetadata": {
    "base_environment": "",
    "environment_version": "2"
   },
   "inputWidgetPreferences": null,
   "language": "python",
   "notebookMetadata": {
    "pythonIndentUnit": 4
   },
   "notebookName": "ETL_databank_loans_plata",
   "widgets": {
    "path": {
     "currentValue": "mnt/datalake/bankloansmedallon",
     "nuid": "92a514b3-47e8-44c5-9aac-cd6a31823cf7",
     "typedWidgetInfo": {
      "autoCreated": false,
      "defaultValue": "",
      "label": "",
      "name": "path",
      "options": {
       "widgetDisplayType": "Text",
       "validationRegex": null
      },
      "parameterDataType": "String"
     },
     "widgetInfo": {
      "widgetType": "text",
      "defaultValue": "",
      "label": "",
      "name": "path",
      "options": {
       "widgetType": "text",
       "autoCreated": null,
       "validationRegex": null
      }
     }
    }
   }
  },
  "language_info": {
   "name": "python"
  }
 },
 "nbformat": 4,
 "nbformat_minor": 0
}
